{
  "nbformat": 4,
  "nbformat_minor": 0,
  "metadata": {
    "colab": {
      "name": "Data and Graphics Processing.ipynb",
      "provenance": [],
      "authorship_tag": "ABX9TyMDoRgD8rVcESZDR1oMiAId",
      "include_colab_link": true
    },
    "kernelspec": {
      "name": "python3",
      "display_name": "Python 3"
    },
    "language_info": {
      "name": "python"
    }
  },
  "cells": [
    {
      "cell_type": "markdown",
      "metadata": {
        "id": "view-in-github",
        "colab_type": "text"
      },
      "source": [
        "<a href=\"https://colab.research.google.com/github/ckrathub/myfirstrepository-/blob/main/Data_and_Graphics_Processing.ipynb\" target=\"_parent\"><img src=\"https://colab.research.google.com/assets/colab-badge.svg\" alt=\"Open In Colab\"/></a>"
      ]
    },
    {
      "cell_type": "code",
      "execution_count": null,
      "metadata": {
        "id": "CucB3LhBrziO"
      },
      "outputs": [],
      "source": [
        "import numpy as np\n",
        "import matplotlib.pyplot as plt\n",
        "import cv2 as cv"
      ]
    },
    {
      "cell_type": "code",
      "source": [
        "test_sample = np.linspace(1, 10, 2000)"
      ],
      "metadata": {
        "id": "GbsvHsCPsOog"
      },
      "execution_count": null,
      "outputs": []
    },
    {
      "cell_type": "code",
      "source": [
        "plt.plot(np.sin(test_sample))\n",
        "plt.plot(np.cos(test_sample))\n",
        "plt.savefig('someplots.jpg')"
      ],
      "metadata": {
        "id": "yEXLRhdxsXCa"
      },
      "execution_count": null,
      "outputs": []
    },
    {
      "cell_type": "code",
      "source": [
        "!wget https://upload.wikimedia.org/wikipedia/commons/thumb/8/8f/Salman_Rushdie_2018.jpg/407px-Salman_Rushdie_2018.jpg"
      ],
      "metadata": {
        "id": "mV2YxgKfysW6"
      },
      "execution_count": null,
      "outputs": []
    },
    {
      "cell_type": "code",
      "source": [
        "!mv 407* test_image.jpg"
      ],
      "metadata": {
        "id": "uJ_EqxH7yvqZ"
      },
      "execution_count": null,
      "outputs": []
    },
    {
      "cell_type": "code",
      "source": [
        "first_fig = cv.imread('test_image.jpg', 1)"
      ],
      "metadata": {
        "id": "fbzHVwRJs7DA"
      },
      "execution_count": null,
      "outputs": []
    },
    {
      "cell_type": "code",
      "source": [
        "rows, cols, depth = first_fig.shape"
      ],
      "metadata": {
        "id": "1bahBwGLtJiQ"
      },
      "execution_count": null,
      "outputs": []
    },
    {
      "cell_type": "code",
      "source": [
        "hstacked_fig = np.hstack((first_fig, first_fig))"
      ],
      "metadata": {
        "id": "S0oHoDLCttTZ"
      },
      "execution_count": null,
      "outputs": []
    },
    {
      "cell_type": "code",
      "source": [
        "plt.imshow(hstacked_fig)\n",
        "cv.imwrite('hstacked_image.jpg', hstacked_fig)"
      ],
      "metadata": {
        "id": "HyU2ch0zuFFg"
      },
      "execution_count": null,
      "outputs": []
    },
    {
      "cell_type": "code",
      "source": [
        "vstacked_fig = np.vstack((hstacked_fig, hstacked_fig))"
      ],
      "metadata": {
        "id": "oV1Qfejmus5v"
      },
      "execution_count": null,
      "outputs": []
    },
    {
      "cell_type": "code",
      "source": [
        "plt.imshow(vstacked_fig)\n",
        "cv.imwrite('vstacked_image.jpg', vstacked_fig)"
      ],
      "metadata": {
        "id": "s0HGgn_hu3Oy"
      },
      "execution_count": null,
      "outputs": []
    },
    {
      "cell_type": "code",
      "source": [
        "vstacked_fig.shape"
      ],
      "metadata": {
        "id": "tNaX_wurvZxF"
      },
      "execution_count": null,
      "outputs": []
    },
    {
      "cell_type": "code",
      "source": [
        "portion = vstacked_fig[0:rows, 0:cols, 0:depth]"
      ],
      "metadata": {
        "id": "qDEzKdluvfvc"
      },
      "execution_count": null,
      "outputs": []
    },
    {
      "cell_type": "code",
      "source": [
        "plt.imshow(portion)"
      ],
      "metadata": {
        "id": "DDvnRvXxvplZ"
      },
      "execution_count": null,
      "outputs": []
    },
    {
      "cell_type": "code",
      "source": [
        "blurred_portion = cv.blur(portion, (10, 10))"
      ],
      "metadata": {
        "id": "pGEJ-v2iv0Vq"
      },
      "execution_count": null,
      "outputs": []
    },
    {
      "cell_type": "code",
      "source": [
        "plt.imshow(blurred_portion)\n",
        "cv.imwrite('blurred_portion.jpg', blurred_portion)"
      ],
      "metadata": {
        "id": "mPOrrXe_wEvz"
      },
      "execution_count": null,
      "outputs": []
    },
    {
      "cell_type": "code",
      "source": [
        "vstacked_fig[0:rows, 0:cols, 0:depth] = blurred_portion"
      ],
      "metadata": {
        "id": "MlyHI6vuwq-l"
      },
      "execution_count": null,
      "outputs": []
    },
    {
      "cell_type": "code",
      "source": [
        "plt.imshow(vstacked_fig)\n",
        "cv.imwrite('stacked_blurred.jpg', vstacked_fig)"
      ],
      "metadata": {
        "id": "RcR862SCw2vu"
      },
      "execution_count": null,
      "outputs": []
    }
  ]
}