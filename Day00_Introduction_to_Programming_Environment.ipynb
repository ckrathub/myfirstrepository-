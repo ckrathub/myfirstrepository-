{
  "nbformat": 4,
  "nbformat_minor": 0,
  "metadata": {
    "colab": {
      "name": "Day00_Introduction_to_Programming_Environment.ipynb",
      "provenance": [],
      "authorship_tag": "ABX9TyO1ybYLd2/h8mUyBusH2wlx",
      "include_colab_link": true
    },
    "kernelspec": {
      "name": "python3",
      "display_name": "Python 3"
    },
    "language_info": {
      "name": "python"
    }
  },
  "cells": [
    {
      "cell_type": "markdown",
      "metadata": {
        "id": "view-in-github",
        "colab_type": "text"
      },
      "source": [
        "<a href=\"https://colab.research.google.com/github/ckrathub/myfirstrepository-/blob/main/Day00_Introduction_to_Programming_Environment.ipynb\" target=\"_parent\"><img src=\"https://colab.research.google.com/assets/colab-badge.svg\" alt=\"Open In Colab\"/></a>"
      ]
    },
    {
      "cell_type": "code",
      "source": [
        "(-3) ** 2"
      ],
      "metadata": {
        "id": "FuKzt7Adm9PN",
        "outputId": "85501d9b-4d0c-42b9-d4a4-59f85e663964",
        "colab": {
          "base_uri": "https://localhost:8080/"
        }
      },
      "execution_count": 22,
      "outputs": [
        {
          "output_type": "execute_result",
          "data": {
            "text/plain": [
              "9"
            ]
          },
          "metadata": {},
          "execution_count": 22
        }
      ]
    },
    {
      "cell_type": "markdown",
      "source": [
        "### Conditional Operators\n",
        "<. >, ==, <=, >=, !="
      ],
      "metadata": {
        "id": "cyYOp1ycocAt"
      }
    },
    {
      "cell_type": "code",
      "source": [
        "(2 < 3) == (4 < 5)"
      ],
      "metadata": {
        "id": "SbctHd3wooIB",
        "outputId": "9708daba-52a7-4a58-bae6-6ff16a36f6e0",
        "colab": {
          "base_uri": "https://localhost:8080/"
        }
      },
      "execution_count": 28,
      "outputs": [
        {
          "output_type": "execute_result",
          "data": {
            "text/plain": [
              "True"
            ]
          },
          "metadata": {},
          "execution_count": 28
        }
      ]
    },
    {
      "cell_type": "markdown",
      "source": [
        ""
      ],
      "metadata": {
        "id": "HfBD4h3EojFS"
      }
    },
    {
      "cell_type": "code",
      "source": [
        "ram_age = 20\n",
        "hari_age = 30\n",
        "akbar_age = 40"
      ],
      "metadata": {
        "id": "Ga2gLSYSnWhN"
      },
      "execution_count": 30,
      "outputs": []
    },
    {
      "cell_type": "code",
      "source": [
        "(ram_age < hari_age) and (hari_age > akbar_age)"
      ],
      "metadata": {
        "id": "YIUQROn5n2-d",
        "outputId": "99f41b3f-07f8-4a42-9561-4a27b46da16c",
        "colab": {
          "base_uri": "https://localhost:8080/"
        }
      },
      "execution_count": 32,
      "outputs": [
        {
          "output_type": "execute_result",
          "data": {
            "text/plain": [
              "False"
            ]
          },
          "metadata": {},
          "execution_count": 32
        }
      ]
    },
    {
      "cell_type": "markdown",
      "source": [
        "### Mileage\n",
        "\n",
        "Price of fuel : 100 Rs\n",
        "Car_mileage : 15 kmpl\n",
        "Cash_in_hand : 65"
      ],
      "metadata": {
        "id": "slFkCM6hqLmg"
      }
    },
    {
      "cell_type": "code",
      "source": [
        "Car_mileage = 15\n",
        "Price_of_fuel = 100\n",
        "Cash_in_hand = 65"
      ],
      "metadata": {
        "id": "4NsJQKeHq0Aw"
      },
      "execution_count": 36,
      "outputs": []
    },
    {
      "cell_type": "code",
      "source": [
        "def mileage_calculator(mileage, fuel, cash):\n",
        "  return (mileage/fuel*cash)"
      ],
      "metadata": {
        "id": "kKzU5HiwqJUt"
      },
      "execution_count": 37,
      "outputs": []
    },
    {
      "cell_type": "code",
      "source": [
        "results = mileage_calculator (10, 50, 460)"
      ],
      "metadata": {
        "id": "WcDQ2A6ErVtC"
      },
      "execution_count": 42,
      "outputs": []
    },
    {
      "cell_type": "code",
      "source": [
        "type (results)"
      ],
      "metadata": {
        "id": "1SQZMrKHsEeQ",
        "outputId": "d544e150-5800-4e33-cc0e-4940b4668d05",
        "colab": {
          "base_uri": "https://localhost:8080/"
        }
      },
      "execution_count": 44,
      "outputs": [
        {
          "output_type": "execute_result",
          "data": {
            "text/plain": [
              "float"
            ]
          },
          "metadata": {},
          "execution_count": 44
        }
      ]
    }
  ]
}